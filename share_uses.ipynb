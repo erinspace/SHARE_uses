{
 "metadata": {
  "name": "",
  "signature": "sha256:d63c28c3e7e030e558eb960d3f29be798c7359f83a60024be12bc77d8fcd53d5"
 },
 "nbformat": 3,
 "nbformat_minor": 0,
 "worksheets": [
  {
   "cells": [
    {
     "cell_type": "markdown",
     "metadata": {},
     "source": [
      "# Exploring SHARE Uses"
     ]
    },
    {
     "cell_type": "code",
     "collapsed": false,
     "input": [
      "from __future__ import unicode_literals\n",
      "\n",
      "import json\n",
      "\n",
      "import requests\n",
      "from IPython.html import widgets\n",
      "from IPython.display import clear_output, display, HTML"
     ],
     "language": "python",
     "metadata": {},
     "outputs": []
    },
    {
     "cell_type": "code",
     "collapsed": false,
     "input": [
      "# SHARE-dev settings\n",
      "OSF_APP_URL = 'https://share-dev.osf.io/api/v1/app/6qajn/?raw=True'\n",
      "\n",
      "HEADERS = {'Content-Type': 'application/json'}"
     ],
     "language": "python",
     "metadata": {},
     "outputs": [],
     "prompt_number": 99
    },
    {
     "cell_type": "markdown",
     "metadata": {},
     "source": [
      "## Get Recent Items from a List of Sources"
     ]
    },
    {
     "cell_type": "markdown",
     "metadata": {},
     "source": [
      "A tool to show the X number of most recent items from Y source where both the number (X) and source (Y) can be chosen from a list of options, the sources are updated each time the tool is used to incorporate any new sources added."
     ]
    },
    {
     "cell_type": "code",
     "collapsed": false,
     "input": [
      "def get_sources():\n",
      "    source_agg = {\n",
      "        \"size\" : 0,\n",
      "        \"aggs\": {\n",
      "            \"sources\" : {\n",
      "                \"terms\" : {\n",
      "                    \"field\": \"source\", \n",
      "                    \"size\" : 0,\n",
      "                    \"exclude\" : \"of|and|or\"\n",
      "                }\n",
      "            }\n",
      "        }\n",
      "    }\n",
      "    data = json.dumps(source_agg)\n",
      "    source_data = requests.post(OSF_APP_URL, headers=HEADERS, data=data, verify=False).json()\n",
      "    sources = source_data['aggregations']['sources']['buckets']\n",
      "    \n",
      "    return [source['key'] for source in sources]"
     ],
     "language": "python",
     "metadata": {},
     "outputs": [],
     "prompt_number": 100
    },
    {
     "cell_type": "code",
     "collapsed": false,
     "input": [
      "def get_recent_items(number, source):\n",
      "    query = {\n",
      "        \"size\": number,\n",
      "            \"filter\": {\n",
      "                \"term\": { \"source\" : source}\n",
      "            },\n",
      "        \"sort\": { \"dateUpdated\": { \"order\": \"desc\" }}\n",
      "    }\n",
      "    data = json.dumps(query)\n",
      "    elastic_results = requests.post(OSF_APP_URL, headers=HEADERS, data=data, verify=False).json()\n",
      "    elastic_list = elastic_results['hits']['hits']\n",
      "    results = [item['_source'] for item in elastic_list]\n",
      "    #print json.dumps([result['title'] for result in results], indent=4)\n",
      "    \n",
      "    info = []\n",
      "    for result in results:\n",
      "        title_bit = {}\n",
      "        title_bit['title'] = result['title']\n",
      "        title_bit['url'] = result['id']['url']\n",
      "        title_bit['dateUpdated'] = result['dateUpdated']\n",
      "        info.append(title_bit)\n",
      "\n",
      "    return info\n"
     ],
     "language": "python",
     "metadata": {},
     "outputs": [],
     "prompt_number": 101
    },
    {
     "cell_type": "code",
     "collapsed": false,
     "input": [
      "def show_table(number, source):\n",
      "    title_info = get_recent_items(number, source)\n",
      "    html = '<h3>Titles:</h3><table>\\n'\n",
      "    for item in title_info:\n",
      "            html += '<tr><td><a href={url}>{title}</a></td><td>{date}</td></tr>\\n'.format(url=item['url'], title=item['title'], date=item['dateUpdated'])\n",
      "    html += '</table>'\n",
      "    display(HTML(html))"
     ],
     "language": "python",
     "metadata": {},
     "outputs": [],
     "prompt_number": 102
    },
    {
     "cell_type": "code",
     "collapsed": false,
     "input": [
      "i = widgets.interact(show_table,\n",
      "                     number=(1,100),\n",
      "                     source = get_sources()\n",
      "    )"
     ],
     "language": "python",
     "metadata": {},
     "outputs": [
      {
       "output_type": "stream",
       "stream": "stderr",
       "text": [
        "/Users/erin/.virtualenvs/share_uses/lib/python2.7/site-packages/requests/packages/urllib3/connectionpool.py:734: InsecureRequestWarning: Unverified HTTPS request is being made. Adding certificate verification is strongly advised. See: https://urllib3.readthedocs.org/en/latest/security.html\n",
        "  InsecureRequestWarning)\n"
       ]
      },
      {
       "html": [
        "<h3>Titles:</h3><table>\n",
        "<tr><td><a href=http://hdl.handle.net/10919/51158>Retention of underrepresented groups in corporate agribusinesses: Assessing the intentions of underrepresented groups to remain working for corporate agribusinesses</a></td><td>2014-12-24T09:00:07+00:00</td></tr>\n",
        "<tr><td><a href=http://hdl.handle.net/10919/51158>Retention of underrepresented groups in corporate agribusinesses: Assessing the intentions of underrepresented groups to remain working for corporate agribusinesses</a></td><td>2014-12-24T09:00:07+00:00</td></tr>\n",
        "<tr><td><a href=http://hdl.handle.net/10919/49938>The legitimation of science in the early German enlightenment Leipzig, ca. 1687-1750</a></td><td>2014-12-23T17:47:23+00:00</td></tr>\n",
        "<tr><td><a href=http://hdl.handle.net/10919/49937>Model robust regression : combining parametric, nonparametric, and semiparametric methods</a></td><td>2014-12-23T17:46:18+00:00</td></tr>\n",
        "<tr><td><a href=http://hdl.handle.net/10919/49936>A new hierarchy of relaxations for 0-1 mixed integer problems with application to some specially structured problems</a></td><td>2014-12-23T17:45:25+00:00</td></tr>\n",
        "<tr><td><a href=http://hdl.handle.net/10919/49935>An historical case study of Virginia Polytechnic Institute and State University in loco parentis</a></td><td>2014-12-23T17:44:22+00:00</td></tr>\n",
        "<tr><td><a href=http://hdl.handle.net/10919/49934>Stress and reliability analysis of multilayered composite cylinder under thermal and mechanical loads</a></td><td>2014-12-23T17:43:27+00:00</td></tr>\n",
        "<tr><td><a href=http://hdl.handle.net/10919/49933>Assessment of direct methods in power system transient stability analysis for on-line applications</a></td><td>2014-12-23T17:42:34+00:00</td></tr>\n",
        "<tr><td><a href=http://hdl.handle.net/10919/49931>Fathers and daughters : an assessment of the individuation and strength of their relationship</a></td><td>2014-12-23T17:41:12+00:00</td></tr>\n",
        "<tr><td><a href=http://hdl.handle.net/10919/49930>A study of the pattern of learning style characteristics for adult dependent decision-makers</a></td><td>2014-12-23T17:40:15+00:00</td></tr>\n",
        "<tr><td><a href=http://hdl.handle.net/10919/49929>Pollination ecology of the simultaneously flowering Impatiens capensis and I. pallida</a></td><td>2014-12-23T17:39:16+00:00</td></tr>\n",
        "<tr><td><a href=http://hdl.handle.net/10919/49928>Policies, programs, and services for nontraditional students at private, four year institutions in the southeastern United States</a></td><td>2014-12-23T17:28:12+00:00</td></tr>\n",
        "<tr><td><a href=http://hdl.handle.net/10919/49927>Family adaptability and cohesion in remarried families</a></td><td>2014-12-23T17:26:26+00:00</td></tr>\n",
        "<tr><td><a href=http://hdl.handle.net/10919/49926>Bioavailability of phosphorus from various sources for young turkeys</a></td><td>2014-12-23T17:25:09+00:00</td></tr>\n",
        "<tr><td><a href=http://hdl.handle.net/10919/49925>Multispecies toxicity tests using indigenous organisms : predicting the effects of hazardous materials in streams</a></td><td>2014-12-23T17:24:02+00:00</td></tr>\n",
        "<tr><td><a href=http://hdl.handle.net/10919/49924>Studies in ion exchange chromatography</a></td><td>2014-12-23T17:23:09+00:00</td></tr>\n",
        "<tr><td><a href=http://hdl.handle.net/10919/49923>Effects of parenting support groups on social support, marital support, and perceptions of infants</a></td><td>2014-12-23T17:22:11+00:00</td></tr>\n",
        "<tr><td><a href=http://hdl.handle.net/10919/49915>Characterization and modeling of magnetic materials and structures</a></td><td>2014-12-23T17:21:13+00:00</td></tr>\n",
        "<tr><td><a href=http://hdl.handle.net/10919/49920>Corona switching : an osmogene mitigation technique</a></td><td>2014-12-23T17:20:00+00:00</td></tr>\n",
        "<tr><td><a href=http://hdl.handle.net/10919/49919>Supercritical fluid chromatography of nitrogen-containing compounds on packed columns</a></td><td>2014-12-23T17:09:02+00:00</td></tr>\n",
        "<tr><td><a href=http://hdl.handle.net/10919/49918>Analysis of metal matrix composite structures using a micromechanical constitutive theory</a></td><td>2014-12-23T16:49:02+00:00</td></tr>\n",
        "<tr><td><a href=http://hdl.handle.net/10919/49917>Prediction of a school superintendent's tenure using regression and Bayesian analyses</a></td><td>2014-12-23T16:47:47+00:00</td></tr>\n",
        "<tr><td><a href=http://hdl.handle.net/10919/49916>Pole-placement with minimum effort for linear multivariable systems</a></td><td>2014-12-23T16:46:21+00:00</td></tr>\n",
        "<tr><td><a href=http://hdl.handle.net/10919/49914>Parallel pipelined VLSI arrays for real-time image processing</a></td><td>2014-12-23T16:45:18+00:00</td></tr>\n",
        "<tr><td><a href=http://hdl.handle.net/10919/49913>Decentralized pole placement using polynomial matrix fractions</a></td><td>2014-12-23T16:44:23+00:00</td></tr>\n",
        "<tr><td><a href=http://hdl.handle.net/10919/49912>Estimation of tax rate elasticities of durable assets : utility maximizing approach using the AIDS model</a></td><td>2014-12-23T16:43:27+00:00</td></tr>\n",
        "<tr><td><a href=http://hdl.handle.net/10919/49911>Science interests of sixth grade students</a></td><td>2014-12-23T16:42:31+00:00</td></tr>\n",
        "<tr><td><a href=http://hdl.handle.net/10919/49909>Perturbative QCD in exclusive processes</a></td><td>2014-12-23T16:41:34+00:00</td></tr>\n",
        "<tr><td><a href=http://hdl.handle.net/10919/49908>Examining the effect of evaluating performance with performance report variances on reported performance : a field research approach</a></td><td>2014-12-23T16:40:48+00:00</td></tr>\n",
        "<tr><td><a href=http://hdl.handle.net/10919/49907>Hardware, software, firmware allocation of functions in systems development</a></td><td>2014-12-23T16:39:52+00:00</td></tr>\n",
        "<tr><td><a href=http://hdl.handle.net/10919/49906>Computer mediated communication for health behavior change</a></td><td>2014-12-23T16:38:50+00:00</td></tr>\n",
        "<tr><td><a href=http://hdl.handle.net/10919/49904>Synthesis and dynamics of \u03b3-alumina supported molybdenum subcarbonyls and model compounds</a></td><td>2014-12-23T16:37:40+00:00</td></tr>\n",
        "<tr><td><a href=http://hdl.handle.net/10919/49903>The relationship between communication satisfaction and job satisfaction of elementary school principals</a></td><td>2014-12-23T16:30:43+00:00</td></tr>\n",
        "<tr><td><a href=http://hdl.handle.net/10919/49902>Situational constraints : their measurement and role in a dynamice model of performance</a></td><td>2014-12-23T16:29:31+00:00</td></tr>\n",
        "<tr><td><a href=http://hdl.handle.net/10919/49901>Studies in vibrofluidized beds and synthesis of silica catalysts</a></td><td>2014-12-23T16:28:39+00:00</td></tr>\n",
        "<tr><td><a href=http://hdl.handle.net/10919/49900>A theoretically-based curriculum incorporating reading to learn and writing to learn in sixth-grade social studies</a></td><td>2014-12-23T16:09:51+00:00</td></tr>\n",
        "<tr><td><a href=http://hdl.handle.net/10919/49898>Similarity solutions of stochastic nonlinear parabolic equations</a></td><td>2014-12-23T16:08:27+00:00</td></tr>\n",
        "<tr><td><a href=http://hdl.handle.net/10919/49897>The development of the public school support plan in West Virginia</a></td><td>2014-12-23T16:07:22+00:00</td></tr>\n",
        "<tr><td><a href=http://hdl.handle.net/10919/49896>Finite element analyses of cellular cofferdams</a></td><td>2014-12-23T16:06:11+00:00</td></tr>\n",
        "<tr><td><a href=http://hdl.handle.net/10919/49895>Molecular cloning and analysis of the genome of bovine parvovirus</a></td><td>2014-12-23T16:05:22+00:00</td></tr>\n",
        "<tr><td><a href=http://hdl.handle.net/10919/49894>Free amino acid composition of flatpea (lathyrus sylvestris L.) as influenced by water-deficit stress, nitrogen fertilization, developmental stage, and rhizobium inoculation</a></td><td>2014-12-23T16:04:08+00:00</td></tr>\n",
        "<tr><td><a href=http://hdl.handle.net/10919/49893>Land use planning with multiobjective programming : a model for forest development in the hills of Nepal</a></td><td>2014-12-23T16:01:53+00:00</td></tr>\n",
        "<tr><td><a href=http://hdl.handle.net/10919/49892>Responses to abomasal infusion of casein, hydrolyzed casein or methionine-lysine and dietary protein degradability in lactating cows</a></td><td>2014-12-23T16:00:17+00:00</td></tr>\n",
        "<tr><td><a href=http://hdl.handle.net/10919/49891>A status study of classification/salary administration of office support personnel in North Carolina public schools 1985-1987</a></td><td>2014-12-23T15:59:07+00:00</td></tr>\n",
        "<tr><td><a href=http://hdl.handle.net/10919/49890>An analysis of the laws affecting North Carolina public school teachers</a></td><td>2014-12-23T15:57:45+00:00</td></tr>\n",
        "<tr><td><a href=http://hdl.handle.net/10919/49889>Results of true-anomaly regularization in orbital mechanics</a></td><td>2014-12-23T15:56:48+00:00</td></tr>\n",
        "<tr><td><a href=http://hdl.handle.net/10919/49886>Analysis of reinforced embankments and foundations overlying soft soils</a></td><td>2014-12-23T15:55:35+00:00</td></tr>\n",
        "<tr><td><a href=http://hdl.handle.net/10919/49885>Studies on secondary instabilities</a></td><td>2014-12-23T15:54:26+00:00</td></tr>\n",
        "<tr><td><a href=http://hdl.handle.net/10919/49884>Agricultural tenancy and contracts: an economic analysis of the strange farmer system in the Gambia</a></td><td>2014-12-23T15:53:28+00:00</td></tr>\n",
        "<tr><td><a href=http://hdl.handle.net/10919/49883>A theoretical and empirical analysis of the usage levels of futures contracts</a></td><td>2014-12-23T15:52:05+00:00</td></tr>\n",
        "</table>"
       ],
       "metadata": {},
       "output_type": "display_data",
       "text": [
        "<IPython.core.display.HTML at 0x1047a8c10>"
       ]
      }
     ],
     "prompt_number": 103
    },
    {
     "cell_type": "code",
     "collapsed": false,
     "input": [],
     "language": "python",
     "metadata": {},
     "outputs": [],
     "prompt_number": 103
    }
   ],
   "metadata": {}
  }
 ]
}