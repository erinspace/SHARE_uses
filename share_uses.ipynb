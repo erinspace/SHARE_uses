{
 "metadata": {
  "name": "",
  "signature": "sha256:1571d06244bc2f544bc6ba4116985b4004da4d343ca244b9c856423148cd099b"
 },
 "nbformat": 3,
 "nbformat_minor": 0,
 "worksheets": [
  {
   "cells": [
    {
     "cell_type": "markdown",
     "metadata": {},
     "source": [
      "# Exploring SHARE Uses"
     ]
    },
    {
     "cell_type": "code",
     "collapsed": false,
     "input": [
      "from __future__ import division\n",
      "\n",
      "import json\n",
      "\n",
      "import requests\n",
      "from IPython.html import widgets\n",
      "from IPython.display import clear_output, display, HTML"
     ],
     "language": "python",
     "metadata": {},
     "outputs": [],
     "prompt_number": 81
    },
    {
     "cell_type": "code",
     "collapsed": false,
     "input": [
      "# SHARE-dev settings\n",
      "OSF_APP_URL = 'https://share-dev.osf.io/api/v1/app/6qajn/?raw=True'\n",
      "\n",
      "HEADERS = {'Content-Type': 'application/json'}"
     ],
     "language": "python",
     "metadata": {},
     "outputs": [],
     "prompt_number": 82
    },
    {
     "cell_type": "markdown",
     "metadata": {},
     "source": [
      "## Get Recent Items from a List of Sources"
     ]
    },
    {
     "cell_type": "markdown",
     "metadata": {},
     "source": [
      "A tool to show the X number of most recent items from Y source where both the number (X) and source (Y) can be chosen from a list of options, the sources are updated each time the tool is used to incorporate any new sources added."
     ]
    },
    {
     "cell_type": "code",
     "collapsed": false,
     "input": [
      "def get_sources():\n",
      "    source_agg = {\n",
      "        \"size\" : 0,\n",
      "        \"aggs\": {\n",
      "            \"sources\" : {\n",
      "                \"terms\" : {\n",
      "                    \"field\": \"source\", \n",
      "                    \"size\" : 0,\n",
      "                    \"exclude\" : \"of|and|or\"\n",
      "                }\n",
      "            }\n",
      "        }\n",
      "    }\n",
      "    data = json.dumps(source_agg)\n",
      "    source_data = requests.post(OSF_APP_URL, headers=HEADERS, data=data, verify=False).json()\n",
      "    sources = source_data['aggregations']['sources']['buckets']\n",
      "    \n",
      "    return [source['key'] for source in sources]"
     ],
     "language": "python",
     "metadata": {},
     "outputs": [],
     "prompt_number": 83
    },
    {
     "cell_type": "code",
     "collapsed": false,
     "input": [
      "def get_recent_items(number, source):\n",
      "    query = {\n",
      "        \"size\": number,\n",
      "            \"filter\": {\n",
      "                \"term\": { \"source\" : source}\n",
      "            }\n",
      "    }\n",
      "    data = json.dumps(query)\n",
      "    elastic_results = requests.post(OSF_APP_URL, headers=HEADERS, data=data, verify=False).json()\n",
      "    elastic_list = elastic_results['hits']['hits']\n",
      "    results = [item['_source'] for item in elastic_list]\n",
      "    #print json.dumps([result['title'] for result in results], indent=4)\n",
      "    \n",
      "    info = []\n",
      "    for result in results:\n",
      "        title_bit = {}\n",
      "        title_bit['title'] = result['title']\n",
      "        title_bit['url'] = result['id']['url']\n",
      "        info.append(title_bit)\n",
      "\n",
      "    return info\n"
     ],
     "language": "python",
     "metadata": {},
     "outputs": [],
     "prompt_number": 84
    },
    {
     "cell_type": "code",
     "collapsed": false,
     "input": [
      "x = get_recent_items(10, 'mit')\n",
      "for thing in x:\n",
      "    print 'hah'"
     ],
     "language": "python",
     "metadata": {},
     "outputs": [
      {
       "output_type": "stream",
       "stream": "stdout",
       "text": [
        "hah\n",
        "hah\n",
        "hah\n",
        "hah\n",
        "hah\n",
        "hah\n",
        "hah\n",
        "hah\n",
        "hah\n",
        "hah\n"
       ]
      },
      {
       "output_type": "stream",
       "stream": "stderr",
       "text": [
        "/Users/erin/.virtualenvs/oaipmh/lib/python2.7/site-packages/requests/packages/urllib3/connectionpool.py:734: InsecureRequestWarning: Unverified HTTPS request is being made. Adding certificate verification is strongly advised. See: https://urllib3.readthedocs.org/en/latest/security.html\n",
        "  InsecureRequestWarning)\n"
       ]
      }
     ],
     "prompt_number": 86
    },
    {
     "cell_type": "code",
     "collapsed": false,
     "input": [
      "def show_table(number, source):\n",
      "    title_info = get_recent_items(number, source)\n",
      "    html = '<h3>Titles:</h3><table>\\n'\n",
      "    for item in title_info:\n",
      "            html += '<tr><td><a href={url}>{title}</a></td></tr>\\n'.format(url=item['url'], title=item['title'])\n",
      "    html += '</table>'\n",
      "    display(HTML(html))"
     ],
     "language": "python",
     "metadata": {},
     "outputs": [],
     "prompt_number": 89
    },
    {
     "cell_type": "code",
     "collapsed": false,
     "input": [
      "i = widgets.interact(show_table,\n",
      "                     number=(1,100),\n",
      "                     source = get_sources()\n",
      "    )"
     ],
     "language": "python",
     "metadata": {},
     "outputs": [
      {
       "output_type": "stream",
       "stream": "stderr",
       "text": [
        "/Users/erin/.virtualenvs/oaipmh/lib/python2.7/site-packages/requests/packages/urllib3/connectionpool.py:734: InsecureRequestWarning: Unverified HTTPS request is being made. Adding certificate verification is strongly advised. See: https://urllib3.readthedocs.org/en/latest/security.html\n",
        "  InsecureRequestWarning)\n"
       ]
      },
      {
       "html": [
        "<h3>Titles:</h3><table>\n",
        "<tr><td><a href=http://arxiv.org/abs/1410.1549>The unknotted strands of life: knots are very rare in RNA structures</a></td></tr>\n",
        "<tr><td><a href=http://arxiv.org/abs/1410.0672>Helium abundance in giant planets and the local interstellar medium</a></td></tr>\n",
        "<tr><td><a href=http://arxiv.org/abs/1410.1799>Including birefringence into time evolution of CMB: current and future\n",
        "  constraints</a></td></tr>\n",
        "<tr><td><a href=http://arxiv.org/abs/1410.1790>Effects of inhomogeneities and drift on the dynamics of temporal\n",
        "  solitons in fiber cavities and microresonators</a></td></tr>\n",
        "<tr><td><a href=http://arxiv.org/abs/1203.3355>Relativistic nucleon optical potentials with isospin dependence in Dirac\n",
        "  Brueckner Hartree-Fock approach</a></td></tr>\n",
        "<tr><td><a href=http://arxiv.org/abs/1410.0796>Nodal discontinuous Galerkin methods for fractional diffusion equations\n",
        "  on 2D domain with triangular meshes</a></td></tr>\n",
        "<tr><td><a href=http://arxiv.org/abs/1408.2217>Mean-Reversion and Optimization</a></td></tr>\n",
        "<tr><td><a href=http://arxiv.org/abs/1409.7294>On modular k-free sets</a></td></tr>\n",
        "<tr><td><a href=http://arxiv.org/abs/1305.1352>Statistical Physics of Evolutionary Trajectories on Fitness Landscapes</a></td></tr>\n",
        "<tr><td><a href=http://arxiv.org/abs/1410.2424>The unintended influence of control systems on edge-plasma transport and\n",
        "  stability in the Joint European Torus</a></td></tr>\n",
        "<tr><td><a href=http://arxiv.org/abs/1410.1144>Basic automorphism group of complete Cartan foliation covered by\n",
        "  fibration</a></td></tr>\n",
        "<tr><td><a href=http://arxiv.org/abs/1410.1333>Rank-metric codes and their MacWilliams identities</a></td></tr>\n",
        "<tr><td><a href=http://arxiv.org/abs/1406.3675>Electric-field coupling to spin waves in a centrosymmetric ferrite</a></td></tr>\n",
        "<tr><td><a href=http://arxiv.org/abs/1410.1176>Boundary singularities of solutions of semilinear elliptic equations\n",
        "  with critical Hardy potentials</a></td></tr>\n",
        "<tr><td><a href=http://arxiv.org/abs/1403.3691>Discovery of a rich proto-cluster at z=2.9 and associated diffuse cold\n",
        "  gas in the VIMOS Ultra-Deep Survey (VUDS)</a></td></tr>\n",
        "<tr><td><a href=http://arxiv.org/abs/1312.6644>Heat transport through ion crystals</a></td></tr>\n",
        "<tr><td><a href=http://arxiv.org/abs/1312.6644>Heat transport through ion crystals</a></td></tr>\n",
        "<tr><td><a href=http://arxiv.org/abs/1403.7490>Reconstructing singly produced top partners in decays to $\\mathbf{Wb}$</a></td></tr>\n",
        "<tr><td><a href=http://arxiv.org/abs/1410.1607>Application of the Principle of Maximum Conformality to the Top-Quark\n",
        "  Charge Asymmetry at the LHC</a></td></tr>\n",
        "<tr><td><a href=http://arxiv.org/abs/1410.2092>Renormalization Group Solution of the Chutes&Ladder Model</a></td></tr>\n",
        "<tr><td><a href=http://arxiv.org/abs/1302.0262>Neyman's C(\\alpha) Test for Unobserved Heterogeneity</a></td></tr>\n",
        "<tr><td><a href=http://arxiv.org/abs/1408.1427>Suppression of contact-induced spin dephasing in graphene/MgO/Co\n",
        "  spin-valve devices by successive oxygen treatments</a></td></tr>\n",
        "<tr><td><a href=http://arxiv.org/abs/1410.2188>An Aerial Image Recognition Framework using Discrimination and\n",
        "  Redundancy Quality Measure</a></td></tr>\n",
        "<tr><td><a href=http://arxiv.org/abs/1410.2188>An Aerial Image Recognition Framework using Discrimination and\n",
        "  Redundancy Quality Measure</a></td></tr>\n",
        "<tr><td><a href=http://arxiv.org/abs/1410.2014>Bohm's \"quantum potential\" can be considered falsified by experiment</a></td></tr>\n",
        "<tr><td><a href=http://arxiv.org/abs/0801.4791>Finite-Q^2 corrections to parity-violating DIS</a></td></tr>\n",
        "<tr><td><a href=http://arxiv.org/abs/1410.1873>WIMP Dark Matter through the Dilaton Portal</a></td></tr>\n",
        "<tr><td><a href=http://arxiv.org/abs/1410.1774>Suggestion for measuring the weak dipole moment of $\\tau$ lepton at\n",
        "  Z-factory</a></td></tr>\n",
        "<tr><td><a href=http://arxiv.org/abs/1312.6601>Diffraction tomography on curved boundaries: A projection-based approach</a></td></tr>\n",
        "<tr><td><a href=http://arxiv.org/abs/1404.2419>On alternative wavelet reconstruction formula: a case study of\n",
        "  approximate wavelets</a></td></tr>\n",
        "<tr><td><a href=http://arxiv.org/abs/1406.2376>Tidal dissipation in a homogeneous spherical body. I. Methods</a></td></tr>\n",
        "<tr><td><a href=http://arxiv.org/abs/1406.2376>Tidal dissipation in a homogeneous spherical body. I. Methods</a></td></tr>\n",
        "<tr><td><a href=http://arxiv.org/abs/1410.2040>Lower and upper probabilities in the distributive lattice of subsystems</a></td></tr>\n",
        "<tr><td><a href=http://arxiv.org/abs/1410.1213>Spectral properties of unbounded J-self-adjoint matrices</a></td></tr>\n",
        "<tr><td><a href=http://arxiv.org/abs/1410.2463>Simplified Coalgebraic Trace Equivalence</a></td></tr>\n",
        "<tr><td><a href=http://arxiv.org/abs/1409.6322>Electroweakino constraints from LHC data</a></td></tr>\n",
        "<tr><td><a href=http://arxiv.org/abs/1209.3429>Optical signatures of quantum dot excitons in carbon nanotubes</a></td></tr>\n",
        "<tr><td><a href=http://arxiv.org/abs/1209.3429>Optical signatures of quantum dot excitons in carbon nanotubes</a></td></tr>\n",
        "<tr><td><a href=http://arxiv.org/abs/1410.0889>Discrete absorption components in the massive LBV Binary MWC 314</a></td></tr>\n",
        "<tr><td><a href=http://arxiv.org/abs/1410.1559>Improvements to stellar structure models, based on a grid of 3D\n",
        "  convection simulations. II. Calibrating the mixing-length formulation</a></td></tr>\n",
        "<tr><td><a href=http://arxiv.org/abs/1410.1559>Improvements to stellar structure models, based on a grid of 3D\n",
        "  convection simulations. II. Calibrating the mixing-length formulation</a></td></tr>\n",
        "<tr><td><a href=http://arxiv.org/abs/1410.2331>Enhanced laser-driven electron beam acceleration due to\n",
        "  ionization-induced injection</a></td></tr>\n",
        "<tr><td><a href=http://arxiv.org/abs/1410.0696>A 3D view of the Hydra I cluster core - II. Stellar populations</a></td></tr>\n",
        "<tr><td><a href=http://arxiv.org/abs/1410.1151>Training Algorithm for Neuro-Fuzzy Network Based on Singular Spectrum\n",
        "  Analysis</a></td></tr>\n",
        "<tr><td><a href=http://arxiv.org/abs/1410.1389>A Practical, Secure, and Verifiable Cloud Computing for Mobile Systems</a></td></tr>\n",
        "<tr><td><a href=http://arxiv.org/abs/1409.0073>Anomalous chromomagnetic moment of quarks</a></td></tr>\n",
        "<tr><td><a href=http://arxiv.org/abs/1111.3020>On the semicontinuity problem of fibers and global F-regularity</a></td></tr>\n",
        "<tr><td><a href=http://arxiv.org/abs/1410.2069>Brane Viscous Cosmology in the Plasma Era</a></td></tr>\n",
        "<tr><td><a href=http://arxiv.org/abs/1210.5269>A Survey of Spherically Symmetric Spacetimes</a></td></tr>\n",
        "<tr><td><a href=http://arxiv.org/abs/1110.6620>On the characteristic polynomial of Cartan matrices and Chebyshev\n",
        "  polynomials</a></td></tr>\n",
        "</table>"
       ],
       "metadata": {},
       "output_type": "display_data",
       "text": [
        "<IPython.core.display.HTML at 0x1109b9390>"
       ]
      }
     ],
     "prompt_number": 90
    },
    {
     "cell_type": "code",
     "collapsed": false,
     "input": [],
     "language": "python",
     "metadata": {},
     "outputs": []
    }
   ],
   "metadata": {}
  }
 ]
}