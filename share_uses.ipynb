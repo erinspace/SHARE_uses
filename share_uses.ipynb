{
 "metadata": {
  "name": "",
  "signature": "sha256:4cfaf597df170ca4c112f18c6c5b9946923edae984cae9d8a80c1cff3184458e"
 },
 "nbformat": 3,
 "nbformat_minor": 0,
 "worksheets": [
  {
   "cells": [
    {
     "cell_type": "markdown",
     "metadata": {},
     "source": [
      "# Exploring SHARE Uses"
     ]
    },
    {
     "cell_type": "code",
     "collapsed": false,
     "input": [
      "from __future__ import division\n",
      "\n",
      "import json\n",
      "\n",
      "import requests\n",
      "from IPython.html import widgets\n",
      "from IPython.display import clear_output, display, HTML"
     ],
     "language": "python",
     "metadata": {},
     "outputs": [],
     "prompt_number": 81
    },
    {
     "cell_type": "code",
     "collapsed": false,
     "input": [
      "# SHARE-dev settings\n",
      "OSF_APP_URL = 'https://share-dev.osf.io/api/v1/app/6qajn/?raw=True'\n",
      "\n",
      "HEADERS = {'Content-Type': 'application/json'}"
     ],
     "language": "python",
     "metadata": {},
     "outputs": [],
     "prompt_number": 82
    },
    {
     "cell_type": "markdown",
     "metadata": {},
     "source": [
      "## Get Recent Items from a List of Sources"
     ]
    },
    {
     "cell_type": "markdown",
     "metadata": {},
     "source": [
      "A tool to show the X number of most recent items from Y source where both the number (X) and source (Y) can be chosen from a list of options, the sources are updated each time the tool is used to incorporate any new sources added."
     ]
    },
    {
     "cell_type": "code",
     "collapsed": false,
     "input": [
      "def get_sources():\n",
      "    source_agg = {\n",
      "        \"size\" : 0,\n",
      "        \"aggs\": {\n",
      "            \"sources\" : {\n",
      "                \"terms\" : {\n",
      "                    \"field\": \"source\", \n",
      "                    \"size\" : 0,\n",
      "                    \"exclude\" : \"of|and|or\"\n",
      "                }\n",
      "            }\n",
      "        }\n",
      "    }\n",
      "    data = json.dumps(source_agg)\n",
      "    source_data = requests.post(OSF_APP_URL, headers=HEADERS, data=data, verify=False).json()\n",
      "    sources = source_data['aggregations']['sources']['buckets']\n",
      "    \n",
      "    return [source['key'] for source in sources]"
     ],
     "language": "python",
     "metadata": {},
     "outputs": [],
     "prompt_number": 83
    },
    {
     "cell_type": "code",
     "collapsed": false,
     "input": [
      "def get_recent_items(number, source):\n",
      "    query = {\n",
      "        \"size\": number,\n",
      "            \"filter\": {\n",
      "                \"term\": { \"source\" : source}\n",
      "            }\n",
      "    }\n",
      "    data = json.dumps(query)\n",
      "    elastic_results = requests.post(OSF_APP_URL, headers=HEADERS, data=data, verify=False).json()\n",
      "    elastic_list = elastic_results['hits']['hits']\n",
      "    results = [item['_source'] for item in elastic_list]\n",
      "    #print json.dumps([result['title'] for result in results], indent=4)\n",
      "    \n",
      "    info = []\n",
      "    for result in results:\n",
      "        title_bit = {}\n",
      "        title_bit['title'] = result['title']\n",
      "        title_bit['url'] = result['id']['url']\n",
      "        info.append(title_bit)\n",
      "\n",
      "    return info\n"
     ],
     "language": "python",
     "metadata": {},
     "outputs": [],
     "prompt_number": 84
    },
    {
     "cell_type": "code",
     "collapsed": false,
     "input": [
      "def show_table(number, source):\n",
      "    title_info = get_recent_items(number, source)\n",
      "    html = '<h3>Titles:</h3><table>\\n'\n",
      "    for item in title_info:\n",
      "            html += '<tr><td><a href={url}>{title}</a></td></tr>\\n'.format(url=item['url'], title=item['title'])\n",
      "    html += '</table>'\n",
      "    display(HTML(html))"
     ],
     "language": "python",
     "metadata": {},
     "outputs": [],
     "prompt_number": 89
    },
    {
     "cell_type": "code",
     "collapsed": false,
     "input": [
      "i = widgets.interact(show_table,\n",
      "                     number=(1,100),\n",
      "                     source = get_sources()\n",
      "    )"
     ],
     "language": "python",
     "metadata": {},
     "outputs": [
      {
       "output_type": "stream",
       "stream": "stderr",
       "text": [
        "/Users/erin/.virtualenvs/oaipmh/lib/python2.7/site-packages/requests/packages/urllib3/connectionpool.py:734: InsecureRequestWarning: Unverified HTTPS request is being made. Adding certificate verification is strongly advised. See: https://urllib3.readthedocs.org/en/latest/security.html\n",
        "  InsecureRequestWarning)\n"
       ]
      },
      {
       "html": [
        "<h3>Titles:</h3><table>\n",
        "<tr><td><a href=http://arxiv.org/abs/1410.1549>The unknotted strands of life: knots are very rare in RNA structures</a></td></tr>\n",
        "<tr><td><a href=http://arxiv.org/abs/1410.0672>Helium abundance in giant planets and the local interstellar medium</a></td></tr>\n",
        "<tr><td><a href=http://arxiv.org/abs/1410.1799>Including birefringence into time evolution of CMB: current and future\n",
        "  constraints</a></td></tr>\n",
        "<tr><td><a href=http://arxiv.org/abs/1410.1790>Effects of inhomogeneities and drift on the dynamics of temporal\n",
        "  solitons in fiber cavities and microresonators</a></td></tr>\n",
        "<tr><td><a href=http://arxiv.org/abs/1203.3355>Relativistic nucleon optical potentials with isospin dependence in Dirac\n",
        "  Brueckner Hartree-Fock approach</a></td></tr>\n",
        "<tr><td><a href=http://arxiv.org/abs/1410.0796>Nodal discontinuous Galerkin methods for fractional diffusion equations\n",
        "  on 2D domain with triangular meshes</a></td></tr>\n",
        "<tr><td><a href=http://arxiv.org/abs/1408.2217>Mean-Reversion and Optimization</a></td></tr>\n",
        "<tr><td><a href=http://arxiv.org/abs/1409.7294>On modular k-free sets</a></td></tr>\n",
        "</table>"
       ],
       "metadata": {},
       "output_type": "display_data",
       "text": [
        "<IPython.core.display.HTML at 0x11186bc10>"
       ]
      }
     ],
     "prompt_number": 90
    },
    {
     "cell_type": "code",
     "collapsed": false,
     "input": [],
     "language": "python",
     "metadata": {},
     "outputs": []
    }
   ],
   "metadata": {}
  }
 ]
}