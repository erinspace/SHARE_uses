{
 "metadata": {
  "name": "",
  "signature": "sha256:971f9097d807e7d4503ffa883550f54311d2295a25de80d9064a23ce19f7b7b7"
 },
 "nbformat": 3,
 "nbformat_minor": 0,
 "worksheets": [
  {
   "cells": [
    {
     "cell_type": "markdown",
     "metadata": {},
     "source": [
      "# Exploring SHARE Uses"
     ]
    },
    {
     "cell_type": "code",
     "collapsed": false,
     "input": [
      "from __future__ import unicode_literals\n",
      "\n",
      "import json\n",
      "\n",
      "import requests\n",
      "from IPython.html import widgets\n",
      "from IPython.display import clear_output, display, HTML"
     ],
     "language": "python",
     "metadata": {},
     "outputs": [],
     "prompt_number": 8
    },
    {
     "cell_type": "code",
     "collapsed": false,
     "input": [
      "# SHARE-dev settings\n",
      "OSF_APP_URL = 'https://share-dev.osf.io/api/v1/app/6qajn/?raw=True'\n",
      "\n",
      "HEADERS = {'Content-Type': 'application/json'}"
     ],
     "language": "python",
     "metadata": {},
     "outputs": [],
     "prompt_number": 9
    },
    {
     "cell_type": "markdown",
     "metadata": {},
     "source": [
      "## Get Recent Items from a List of Sources"
     ]
    },
    {
     "cell_type": "markdown",
     "metadata": {},
     "source": [
      "A tool to show the X number of most recent items from Y source where both the number (X) and source (Y) can be chosen from a list of options, the sources are updated each time the tool is used to incorporate any new sources added."
     ]
    },
    {
     "cell_type": "code",
     "collapsed": false,
     "input": [
      "def get_sources():\n",
      "    source_agg = {\n",
      "        \"size\" : 0,\n",
      "        \"aggs\": {\n",
      "            \"sources\" : {\n",
      "                \"terms\" : {\n",
      "                    \"field\": \"source\", \n",
      "                    \"size\" : 0,\n",
      "                    \"exclude\" : \"of|and|or\"\n",
      "                }\n",
      "            }\n",
      "        }\n",
      "    }\n",
      "    data = json.dumps(source_agg)\n",
      "    source_data = requests.post(OSF_APP_URL, headers=HEADERS, data=data, verify=False).json()\n",
      "    sources = source_data['aggregations']['sources']['buckets']\n",
      "    \n",
      "    return [source['key'] for source in sources]"
     ],
     "language": "python",
     "metadata": {},
     "outputs": [],
     "prompt_number": 10
    },
    {
     "cell_type": "code",
     "collapsed": false,
     "input": [
      "def get_recent_items(number, source):\n",
      "    query = {\n",
      "        \"size\": number,\n",
      "            \"filter\": {\n",
      "                \"term\": { \"source\" : source}\n",
      "            }\n",
      "    }\n",
      "    data = json.dumps(query)\n",
      "    elastic_results = requests.post(OSF_APP_URL, headers=HEADERS, data=data, verify=False).json()\n",
      "    elastic_list = elastic_results['hits']['hits']\n",
      "    results = [item['_source'] for item in elastic_list]\n",
      "    #print json.dumps([result['title'] for result in results], indent=4)\n",
      "    \n",
      "    info = []\n",
      "    for result in results:\n",
      "        title_bit = {}\n",
      "        title_bit['title'] = result['title']\n",
      "        title_bit['url'] = result['id']['url']\n",
      "        info.append(title_bit)\n",
      "\n",
      "    return info\n"
     ],
     "language": "python",
     "metadata": {},
     "outputs": [],
     "prompt_number": 11
    },
    {
     "cell_type": "code",
     "collapsed": false,
     "input": [
      "def show_table(number, source):\n",
      "    title_info = get_recent_items(number, source)\n",
      "    html = '<h3>Titles:</h3><table>\\n'\n",
      "    for item in title_info:\n",
      "            html += '<tr><td><a href={url}>{title}</a></td></tr>\\n'.format(url=item['url'], title=item['title'])\n",
      "    html += '</table>'\n",
      "    display(HTML(html))"
     ],
     "language": "python",
     "metadata": {},
     "outputs": [],
     "prompt_number": 12
    },
    {
     "cell_type": "code",
     "collapsed": false,
     "input": [
      "i = widgets.interact(show_table,\n",
      "                     number=(1,100),\n",
      "                     source = get_sources()\n",
      "    )"
     ],
     "language": "python",
     "metadata": {},
     "outputs": [
      {
       "output_type": "stream",
       "stream": "stderr",
       "text": [
        "/Users/erin/.virtualenvs/share_uses/lib/python2.7/site-packages/requests/packages/urllib3/connectionpool.py:734: InsecureRequestWarning: Unverified HTTPS request is being made. Adding certificate verification is strongly advised. See: https://urllib3.readthedocs.org/en/latest/security.html\n",
        "  InsecureRequestWarning)\n"
       ]
      },
      {
       "html": [
        "<h3>Titles:</h3><table>\n",
        "<tr><td><a href=http://repository.cmu.edu/biology/434>Frequencies of hydrophobic and hydrophilic runs and alternations in proteins of known structure.</a></td></tr>\n",
        "<tr><td><a href=http://repository.cmu.edu/biology/442>A human genome-wide library of local phylogeny predictions for whole-genome inference problems.</a></td></tr>\n",
        "<tr><td><a href=http://repository.cmu.edu/biology/450>Unified regression model of binding equilibria in crowded environments.</a></td></tr>\n",
        "<tr><td><a href=http://repository.cmu.edu/biology/455>Three-dimensional stochastic off-lattice model of binding chemistry in crowded environments.</a></td></tr>\n",
        "<tr><td><a href=http://repository.cmu.edu/biology/453>A consensus tree approach for reconstructing human evolutionary history and detecting population substructure.</a></td></tr>\n",
        "<tr><td><a href=http://repository.cmu.edu/biology/435>Relaxing haplotype block models for association testing.</a></td></tr>\n",
        "<tr><td><a href=http://dx.doi.org/10.1152/jn.00362.2012>Intrinsic heterogeneity in oscillatory dynamics limits correlation-induced neural synchronization.</a></td></tr>\n",
        "<tr><td><a href=http://dx.doi.org/10.1073/pnas.1221214110>Intermediate intrinsic diversity enhances neural population coding.</a></td></tr>\n",
        "<tr><td><a href=http://repository.cmu.edu/biology/456>Morphological analysis of activity-reduced adult-born neurons in the mouse olfactory bulb.</a></td></tr>\n",
        "<tr><td><a href=http://repository.cmu.edu/biology/464>Impact of neuronal heterogeneity on correlated colored noise-induced synchronization.</a></td></tr>\n",
        "<tr><td><a href=http://dx.doi.org/10.1073/pnas.1303830110>Origins of correlated spiking in the mammalian olfactory bulb.</a></td></tr>\n",
        "<tr><td><a href=http://dx.doi.org/10.1007/978-3-642-20595-8_27>Nanofiber Biomaterials</a></td></tr>\n",
        "<tr><td><a href=http://dx.doi.org/10.1016/j.actbio.2013.04.036>Optimizing the structure and contractility of engineered skeletal muscle thin films.</a></td></tr>\n",
        "<tr><td><a href=http://repository.cmu.edu/dissertations/395>Petascale Cosmological Hydrodynamic Simulation of Quasars</a></td></tr>\n",
        "<tr><td><a href=http://repository.cmu.edu/bme/91>Critical Transitions in Early Embryonic Aortic Arch Patterning and Hemodynamics</a></td></tr>\n",
        "<tr><td><a href=http://dx.doi.org/10.1016/j.biomaterials.2010.03.028>Nuclear morphology and deformation in engineered cardiac myocytes and tissues.</a></td></tr>\n",
        "<tr><td><a href=http://dx.doi.org/10.1111/aor.12213>Outcomes of the ninth international conference on pediatric mechanical circulatory support systems and pediatric cardiopulmonary perfusion.</a></td></tr>\n",
        "<tr><td><a href=http://repository.cmu.edu/bme/102>Biohybrid thin films for measuring contractility in engineered cardiovascular muscle.</a></td></tr>\n",
        "<tr><td><a href=http://dx.doi.org/10.1002/jbm.a.34655>Fabrication and in vivo thrombogenicity testing of nitric oxide generating artificial lungs.</a></td></tr>\n",
        "<tr><td><a href=http://repository.cmu.edu/bme/76>Long-term animal model of venovenous extracorporeal membrane oxygenation with atrial septal defect as a bridge to lung transplantation.</a></td></tr>\n",
        "<tr><td><a href=http://dx.doi.org/10.1016/j.jpedsurg.2008.10.009>Development of an artificial placenta I: pumpless arterio-venous extracorporeal life support in a neonatal sheep model.</a></td></tr>\n",
        "<tr><td><a href=http://repository.cmu.edu/bme/57>The relationships between air exposure, negative pressure, and hemolysis.</a></td></tr>\n",
        "<tr><td><a href=http://repository.cmu.edu/bme/56>Lung physiology during ECS resuscitation of DCD donors followed by in situ assessment of lung function.</a></td></tr>\n",
        "<tr><td><a href=http://dx.doi.org/10.1097/MAT.0b013e3181ba133b>Organ donation after cardiac determination of death (DCD): a swine model.</a></td></tr>\n",
        "<tr><td><a href=http://dx.doi.org/10.1007/s10558-009-9083-2>The relationship between pulmonary system impedance and right ventricular function in normal sheep.</a></td></tr>\n",
        "<tr><td><a href=http://repository.cmu.edu/bme/67>The Role of Porous Media in Modeling Fluid Flow Within Hollow Fiber Membranes of the Total Artificial Lung</a></td></tr>\n",
        "<tr><td><a href=http://repository.cmu.edu/bme/28>Nanowire nanoelectronics: Building interfaces with tissue and cells at the natural scale of biology</a></td></tr>\n",
        "<tr><td><a href=http://repository.cmu.edu/bme/24>Removal of malaria-infected red blood cells using magnetic cell separators: A computational study.</a></td></tr>\n",
        "<tr><td><a href=http://dx.doi.org/10.1111/j.1525-1594.2011.01230.x>Safety-enhanced optimal control of turbodynamic blood pumps.</a></td></tr>\n",
        "<tr><td><a href=http://repository.cmu.edu/bme/20>In-vitro Evaluation of Ventricular Cannulation for Rotodynamic Cardiac Assist Devices.</a></td></tr>\n",
        "<tr><td><a href=http://dx.doi.org/10.1111/j.1525-1594.2009.00724.x>Multimodal flow visualization and optimization of pneumatic blood pump for sorbent hemodialysis system.</a></td></tr>\n",
        "<tr><td><a href=http://repository.cmu.edu/bme/38>Computational fluid dynamics analysis of blade tip clearances on hemodynamic performance and blood damage in a centrifugal ventricular assist device.</a></td></tr>\n",
        "<tr><td><a href=http://repository.cmu.edu/bme/48>Three-dimensional, flexible nanoscale field-effect transistors as localized bioprobes.</a></td></tr>\n",
        "<tr><td><a href=http://repository.cmu.edu/bme/47>Design and Implementation of Functional Nanoelectronic Interfaces With Biomolecules, Cells, and Tissue Using Nanowire Device Arrays.</a></td></tr>\n",
        "<tr><td><a href=http://repository.cmu.edu/bme/12>Modeling and numerical simulation of blood flow using the Theory of Interacting Continua.</a></td></tr>\n",
        "<tr><td><a href=http://repository.cmu.edu/scforum/14>The Challenges of Openness and Transparency in Scholarly Communication</a></td></tr>\n",
        "<tr><td><a href=http://repository.cmu.edu/scforum/14>The Challenge of Openness and Transparency in Scholarly Communication</a></td></tr>\n",
        "<tr><td><a href=http://repository.cmu.edu/biology/509>Fluorescent DNA nanotags: supramolecular fluorescent labels based on intercalating dye arrays assembled on nanostructured DNA templates.</a></td></tr>\n",
        "<tr><td><a href=http://repository.cmu.edu/biology/478>Glomerulus-specific, long-latency activity in the olfactory bulb granule cell network.</a></td></tr>\n",
        "<tr><td><a href=http://repository.cmu.edu/biology/475>Tuft calcium spikes in accessory olfactory bulb mitral cells.</a></td></tr>\n",
        "<tr><td><a href=http://repository.cmu.edu/dissertations/382>Essays on Specification and Estimation of Models of Markets For Heterogeneous Housing</a></td></tr>\n",
        "<tr><td><a href=http://repository.cmu.edu/dissertations/384>Clustering Problems for High Dimensional Data</a></td></tr>\n",
        "<tr><td><a href=http://repository.cmu.edu/sei/795>CERT Resilience Management Model\u2014Mail-Specific Process Areas: International Mail Transportation (Version 1.0)</a></td></tr>\n",
        "<tr><td><a href=http://repository.cmu.edu/sei/796>CERT Resilience Management Model\u2014Mail-Specific Process Areas: Mail Revenue Assurance (Version 1.0)</a></td></tr>\n",
        "<tr><td><a href=http://repository.cmu.edu/sei/799>A Systematic Approach for Assessing Workforce Readiness</a></td></tr>\n",
        "<tr><td><a href=http://repository.cmu.edu/sei/797>CERT Resilience Management Model\u2014Mail-Specific Process Areas: Mail Induction (Version 1.0)</a></td></tr>\n",
        "<tr><td><a href=http://repository.cmu.edu/biology/503>Engineering fluorogen activating proteins into self-assembling materials.</a></td></tr>\n",
        "<tr><td><a href=http://repository.cmu.edu/biology/497>STED nanoscopy in living cells using Fluorogen Activating Proteins.</a></td></tr>\n",
        "<tr><td><a href=http://repository.cmu.edu/biology/481>Adult neurogenesis and specific replacement of interneuron subtypes in the mouse main olfactory bulb.</a></td></tr>\n",
        "<tr><td><a href=http://repository.cmu.edu/biology/490>Functional polarity in neurons: what can we learn from studying an exception?</a></td></tr>\n",
        "<tr><td><a href=http://repository.cmu.edu/sei/804>Agile Software Teams: How They Engage with Systems Engineering on DoD Acquisition Programs</a></td></tr>\n",
        "<tr><td><a href=http://repository.cmu.edu/sei/809>Agile Methods in Air Force Sustainment: Status and Outlook</a></td></tr>\n",
        "<tr><td><a href=http://repository.cmu.edu/dissertations/386>Dependable Cyber-Physical Systems</a></td></tr>\n",
        "<tr><td><a href=http://dx.doi.org/10.1021/bc060261j>Sentinel lymph node imaging using quantum dots in mouse tumor models.</a></td></tr>\n",
        "<tr><td><a href=http://repository.cmu.edu/bme/6>Simulation of Dilated Heart Failure with Continuous Flow Circulatory Support</a></td></tr>\n",
        "<tr><td><a href=http://dx.doi.org/10.1016/j.ijengsci.2013.12.001>A numerical study of blood flow using mixture theory.</a></td></tr>\n",
        "<tr><td><a href=http://repository.cmu.edu/scforum/14>The Challenges of Openness and Transparency in Scholarly Communication</a></td></tr>\n",
        "<tr><td><a href=http://repository.cmu.edu/context/lib_science/article/1144/type/native/viewcontent>Managing ETDs with Associated Complex Digital Objects</a></td></tr>\n",
        "<tr><td><a href=http://repository.cmu.edu/dissertations/390>Optimization, Dynamics and Stability of Non-Linear Separation Processes</a></td></tr>\n",
        "<tr><td><a href=http://repository.cmu.edu/biology/517>A hierarchical model for assembly of eukaryotic 60S ribosomal subunit domains.</a></td></tr>\n",
        "<tr><td><a href=http://repository.cmu.edu/biology/516>Ribosome biogenesis in the yeast Saccharomyces cerevisiae.</a></td></tr>\n",
        "<tr><td><a href=http://dx.doi.org/10.1021/ol036081w>Improved photostability and fluorescence properties through polyfluorination of a cyanine dye.</a></td></tr>\n",
        "<tr><td><a href=http://dx.doi.org/10.2174/0929867053507324>Fluorescence imaging of tumors in vivo.</a></td></tr>\n",
        "<tr><td><a href=http://repository.cmu.edu/biology/524>Multiple roles of a conserved GAF domain tyrosine residue in cyanobacterial and plant phytochromes.</a></td></tr>\n",
        "<tr><td><a href=http://repository.cmu.edu/biology/529>rRNA maturation in yeast cells depleted of large ribosomal subunit proteins.</a></td></tr>\n",
        "<tr><td><a href=http://repository.cmu.edu/biology/533>Saccharomyces cerevisiae ribosomal protein L26 is not essential for ribosome assembly and function.</a></td></tr>\n",
        "<tr><td><a href=http://repository.cmu.edu/biology/526>Interactions among Ytm1, Erb1, and Nop7 required for assembly of the Nop7-subcomplex in yeast preribosomes.</a></td></tr>\n",
        "<tr><td><a href=http://dx.doi.org/10.1038/emboj.2011.338>Assembly of Saccharomyces cerevisiae 60S ribosomal subunits: role of factors required for 27S pre-rRNA processing.</a></td></tr>\n",
        "<tr><td><a href=http://repository.cmu.edu/biology/530>Kinesin molecular motor Eg5 functions during polypeptide synthesis.</a></td></tr>\n",
        "<tr><td><a href=http://repository.cmu.edu/biology/538>Assembly factors Rpf2 and Rrs1 recruit 5S rRNA and ribosomal proteins rpL5 and rpL11 into nascent ribosomes.</a></td></tr>\n",
        "<tr><td><a href=http://dx.doi.org/10.1115/1.4023382>Variability of computational fluid dynamics solutions for pressure and flow in a giant aneurysm: the ASME 2012 Summer Bioengineering Conference CFD Challenge.</a></td></tr>\n",
        "<tr><td><a href=http://dx.doi.org/10.1093/ejcts/ezt118>Total cavopulmonary connection in patients with apicocaval juxtaposition: optimal conduit route using preoperative angiogram and flow simulation.</a></td></tr>\n",
        "<tr><td><a href=http://dx.doi.org/10.1007/s00348-012-1426-x>Time-resolved OCT-\u03bcPIV: a new microscopic PIV technique for noninvasive depth-resolved pulsatile flow profile acquisition</a></td></tr>\n",
        "<tr><td><a href=http://repository.cmu.edu/dissertations/399>Propositional Reasoning that Tracks Probabilistic Reasoning</a></td></tr>\n",
        "<tr><td><a href=http://repository.cmu.edu/dissertations/401>Homogeneous Dislocation Nucleation</a></td></tr>\n",
        "<tr><td><a href=http://repository.cmu.edu/dissertations/403>Uninformed Consent: The Benefits and Limits of Transparency and Choice in Privacy Decision Making</a></td></tr>\n",
        "<tr><td><a href=http://repository.cmu.edu/dissertations/411>Mixing and Phase Behavior of Organic Particles</a></td></tr>\n",
        "<tr><td><a href=http://repository.cmu.edu/dissertations/413>Implications of Mobility, Population Shifts, and Growth for Metropolitan Energy and Greenhouse Gas Emissions Planning</a></td></tr>\n",
        "<tr><td><a href=http://repository.cmu.edu/dissertations/417>Scenario - Based Prediction of U.S. Water Withdrawal and Consumptive Water Use</a></td></tr>\n",
        "<tr><td><a href=http://repository.cmu.edu/dissertations/414>A Formal Approach to Provide Information Support for Troubleshooting of HVAC Related Problems</a></td></tr>\n",
        "<tr><td><a href=http://repository.cmu.edu/biology/447>Applying unmixing to gene expression data for tumor phylogeny inference.</a></td></tr>\n",
        "<tr><td><a href=http://repository.cmu.edu/biology/449>A parameter estimation technique for stochastic self-assembly systems and its application to human papillomavirus self-assembly.</a></td></tr>\n",
        "<tr><td><a href=http://repository.cmu.edu/biology/446>Parameter effects on binding chemistry in crowded media using a two-dimensional stochastic off-lattice model.</a></td></tr>\n",
        "</table>"
       ],
       "metadata": {},
       "output_type": "display_data",
       "text": [
        "<IPython.core.display.HTML at 0x108b034d0>"
       ]
      }
     ],
     "prompt_number": 13
    },
    {
     "cell_type": "code",
     "collapsed": false,
     "input": [],
     "language": "python",
     "metadata": {},
     "outputs": [],
     "prompt_number": 13
    }
   ],
   "metadata": {}
  }
 ]
}